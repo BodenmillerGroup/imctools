{
 "cells": [
  {
   "cell_type": "code",
   "execution_count": 3,
   "metadata": {
    "collapsed": true
   },
   "outputs": [],
   "source": [
    "from imctools.scripts import ometiff2analysis\n",
    "from imctools.scripts import cropobjects\n",
    "from imctools.scripts import croprandomsection\n",
    "from imctools.scripts import resizeimage\n",
    "from imctools.scripts import generatedistancetospheres\n",
    "from imctools.scripts import imc2tiff\n",
    "from imctools.scripts import ome2micat\n",
    "from imctools.scripts import probablity2uncertainty"
   ]
  },
  {
   "cell_type": "code",
   "execution_count": 4,
   "metadata": {
    "collapsed": true
   },
   "outputs": [],
   "source": [
    "import os\n",
    "import re"
   ]
  },
  {
   "cell_type": "markdown",
   "metadata": {},
   "source": [
    "\n",
    "# This script must be adapted to use\n",
    "Currently it will convert txt in subfolders of the folder base_folder into OME.tiffs\n",
    " and then create tiff stacks for analysis and ilastik based on the pannel_csv\n",
    " run it like this\n",
    " this will create crops for ilastik\n",
    " load the ilatik_random folder in ilastik and do the classifictation\n",
    " check the uncertainties\n",
    "\n",
    "The script can also convert mcd files directly or ZIP folders containing MCD or TXT files - please ask Vito how to adapt"
   ]
  },
  {
   "cell_type": "code",
   "execution_count": 7,
   "metadata": {
    "collapsed": true
   },
   "outputs": [],
   "source": [
    "# the folders with the txt/mcd files for the analysis\n",
    "folders = ['/home/hartlandj/Data/METABRIC/METABRIC_txt/']\n",
    "\n",
    "# output for OME tiffs\n",
    "out_tiff_folder = '/home/jwindh/Data/VitoExample/ometiff'\n",
    "\n",
    "# filename part that all the imc txt files should have, can be set to '' if none\n",
    "common_file_part = '.txt'\n",
    "\n",
    "# a csv indicating which columns should be used for ilastik (0, 1) in ilastik column\n",
    "pannel_csv = '/home/jwindh/Data/VitoExample/configfiles/20170626_pannel_METABRICl.csv'\n",
    "mass_col = None\n",
    "metal_col = 'Metal Tag'\n",
    "ilastik_col = 'ilastik'\n",
    "# Explicitly indicates which metals should be used for the full stack\n",
    "full_col = 'full'\n",
    "# specify the folder to put the analysis in\n",
    "analysis_folder = '/home/jwindh/Data/VitoExample/analysis'\n",
    "# specify the subfolders\n",
    "cp_folder = '/home/jwindh/Data/VitoExample/cpout'\n",
    "\n",
    "uncertainty_folder = analysis_folder\n",
    "micat_folder = '/home/jwindh/Data/VitoExample/micat'\n",
    "\n",
    "# parameters for resizing the images for ilastik\n",
    "suffix_full = '_full'\n",
    "suffix_ilastik = '_ilastik'\n",
    "suffix_ilastik_scale = '_ilastik_s2'\n",
    "suffix_cropmask = 'cropmask'\n",
    "suffic_segmentation = 'sphereseg'\n",
    "suffix_mask = '_mask.tiff'\n",
    "suffix_probablities = '_probabilities'\n",
    "\n",
    "\n",
    "failed_images = list()\n",
    "\n",
    "re_idfromname = re.compile('_l(?P<Label>[0-9]+)_')"
   ]
  },
  {
   "cell_type": "markdown",
   "metadata": {},
   "source": [
    "Specify which steps to run"
   ]
  },
  {
   "cell_type": "code",
   "execution_count": 1,
   "metadata": {
    "collapsed": true
   },
   "outputs": [],
   "source": [
    "do_convert_txt = False\n",
    "do_stacks = True\n",
    "do_ilastik = True\n",
    "do_micat = True"
   ]
  },
  {
   "cell_type": "markdown",
   "metadata": {},
   "source": [
    "Generate all the folders if necessary"
   ]
  },
  {
   "cell_type": "code",
   "execution_count": 5,
   "metadata": {
    "collapsed": true
   },
   "outputs": [],
   "source": [
    "for fol in [out_tiff_folder, analysis_folder, cp_folder, micat_folder,uncertainty_folder]:\n",
    "    if not os.path.exists(fol):\n",
    "        os.makedirs(fol)"
   ]
  },
  {
   "cell_type": "markdown",
   "metadata": {},
   "source": [
    "Convert txt to ome"
   ]
  },
  {
   "cell_type": "code",
   "execution_count": 6,
   "metadata": {
    "collapsed": true
   },
   "outputs": [],
   "source": [
    "if do_convert_txt:\n",
    "    for fol in folders:\n",
    "        for fn in os.listdir(fol):\n",
    "            if len([f for f in os.listdir(out_tiff_folder) if (fn.rstrip('.txt').rstrip('.mcd') in f)]) == 0:\n",
    "                if common_file_part in fn: # and 'tuningtape' not in fn:\n",
    "                    print(fn)\n",
    "                    txtname = os.path.join(fol, fn)\n",
    "                    try:\n",
    "                        imc2tiff.save_imc_to_tiff(txtname,tifftype='ome', outpath=out_tiff_folder)\n",
    "\n",
    "                    except:\n",
    "                        failed_images.append(txtname)\n",
    "                        print(txtname)\n"
   ]
  },
  {
   "cell_type": "markdown",
   "metadata": {},
   "source": [
    "Generate the analysis stacks"
   ]
  },
  {
   "cell_type": "code",
   "execution_count": 8,
   "metadata": {},
   "outputs": [
    {
     "name": "stderr",
     "output_type": "stream",
     "text": [
      "/home/jwindh/.virtualenvs/python3_env/lib/python3.4/site-packages/tifffile/tifffile.py:452: UserWarning: writing incompatible bigtiff ImageJ\n",
      "  warnings.warn(\"writing incompatible bigtiff ImageJ\")\n"
     ]
    }
   ],
   "source": [
    "if do_stacks:\n",
    "    for img in os.listdir(out_tiff_folder):\n",
    "        basename = img.rstrip('.ome.tiff')\n",
    "        ometiff2analysis.ometiff_2_analysis(os.path.join(out_tiff_folder, img), analysis_folder, basename+suffix_full,\n",
    "                                           pannelcsv=pannel_csv, metalcolumn=metal_col,\n",
    "                                            usedcolumn=full_col)\n",
    "\n"
   ]
  },
  {
   "cell_type": "markdown",
   "metadata": {},
   "source": [
    "Generate the ilastik stacks"
   ]
  },
  {
   "cell_type": "code",
   "execution_count": 9,
   "metadata": {},
   "outputs": [
    {
     "name": "stderr",
     "output_type": "stream",
     "text": [
      "/home/jwindh/.virtualenvs/python3_env/lib/python3.4/site-packages/tifffile/tifffile.py:452: UserWarning: writing incompatible bigtiff ImageJ\n",
      "  warnings.warn(\"writing incompatible bigtiff ImageJ\")\n"
     ]
    }
   ],
   "source": [
    "if do_ilastik:\n",
    "    for img in os.listdir(out_tiff_folder):\n",
    "        basename = img.rstrip('.ome.tiff')\n",
    "        ometiff2analysis.ometiff_2_analysis(os.path.join(out_tiff_folder, img), analysis_folder,\n",
    "                                            basename + suffix_ilastik, pannelcsv=pannel_csv, metalcolumn=metal_col,\n",
    "                                            usedcolumn=ilastik_col, addsum=True)"
   ]
  },
  {
   "cell_type": "markdown",
   "metadata": {},
   "source": [
    "-> Before the next step run the cellprofiler 'prepare_ilastik' pipeline to generate a stacks for ilastik that are scaled and have hot pixels removed\n",
    "\n",
    "From there run the pixel classification in Ilastik either via X2GO on our server or even better on an image processing virutal machine from the ZMB.\n",
    "\n",
    "For classification use 3 pixeltypes:\n",
    "- Nuclei\n",
    "- Cytoplasm/Membrane\n",
    "- Background\n",
    "\n",
    "Usually it is best to label very sparsely to avoid creating a to large but redundant training data set. After initially painting few pixels, check the uncertainty frequently and only paint pixels with high uncertainty.\n",
    "\n",
    "Once this looks nice for all the cropped sections, batch process the whole images using the code bellow. "
   ]
  },
  {
   "cell_type": "code",
   "execution_count": null,
   "metadata": {
    "collapsed": true
   },
   "outputs": [],
   "source": []
  },
  {
   "cell_type": "markdown",
   "metadata": {},
   "source": [
    "## Run the ilastik classification as a batch"
   ]
  },
  {
   "cell_type": "code",
   "execution_count": 10,
   "metadata": {
    "collapsed": true
   },
   "outputs": [],
   "source": [
    "fn_ilastikproject = '/home/jwindh/Data/VitoExample/pipeline/MyProject.ilp'\n",
    "bin_ilastik = \"/mnt/bbvolume/labcode/ilastik-1.2.0-Linux/run_ilastik.sh\" "
   ]
  },
  {
   "cell_type": "code",
   "execution_count": 17,
   "metadata": {
    "collapsed": true
   },
   "outputs": [],
   "source": [
    "fn_ilastik_input =os.path.join(analysis_folder,\"*\"+suffix_ilastik_scale+'.tiff')\n",
    "glob_probabilities = os.path.join(analysis_folder,\"{nickname}\"+suffix_probablities+'.tiff')"
   ]
  },
  {
   "cell_type": "code",
   "execution_count": null,
   "metadata": {
    "collapsed": true,
    "scrolled": false
   },
   "outputs": [],
   "source": [
    "%%bash -s \"$bin_ilastik\" \"$fn_ilastikproject\" \"$glob_probabilities\" \"$fn_ilastik_input\" \n",
    "echo $1\n",
    "echo $2\n",
    "echo $3\n",
    "echo $4\n",
    "LAZYFLOW_TOTAL_RAM_MB=40000 \\\n",
    "LAZYFLOW_THREADS=16\\\n",
    "    $1 \\\n",
    "    --headless --project=$2 \\\n",
    "    --output_format=tiff \\\n",
    "    --output_filename_format=$3 \\\n",
    "    --export_dtype uint16 --pipeline_result_drange=\"(0.0, 1.0)\" \\\n",
    "    --export_drange=\"(0,65535)\" $4"
   ]
  },
  {
   "cell_type": "markdown",
   "metadata": {},
   "source": [
    "## convert probabilities to uncertainties"
   ]
  },
  {
   "cell_type": "code",
   "execution_count": null,
   "metadata": {
    "collapsed": true
   },
   "outputs": [],
   "source": [
    "for fn in os.listdir(analysis_folder):\n",
    "    if fn.endswith(suffix_probablities+'.tiff'):\n",
    "        probablity2uncertainty.probability2uncertainty(os.path.join(analysis_folder,fn), uncertainty_folder)"
   ]
  },
  {
   "cell_type": "markdown",
   "metadata": {},
   "source": [
    "## Generate the micat folder"
   ]
  },
  {
   "cell_type": "code",
   "execution_count": null,
   "metadata": {
    "collapsed": true
   },
   "outputs": [],
   "source": [
    "if do_micat:\n",
    "    if not(os.path.exists(micat_folder)):\n",
    "        os.makedirs(micat_folder)\n",
    "    ome2micat.omefolder2micatfolder(out_tiff_folder, micat_folder, fol_masks=cp_folder,mask_suffix=suffix_mask, dtype='uint16')"
   ]
  }
 ],
 "metadata": {
  "kernelspec": {
   "display_name": "Python 3 venv",
   "language": "python",
   "name": "python3"
  },
  "language_info": {
   "codemirror_mode": {
    "name": "ipython",
    "version": 3
   },
   "file_extension": ".py",
   "mimetype": "text/x-python",
   "name": "python",
   "nbconvert_exporter": "python",
   "pygments_lexer": "ipython3",
   "version": "3.4.3"
  }
 },
 "nbformat": 4,
 "nbformat_minor": 1
}
