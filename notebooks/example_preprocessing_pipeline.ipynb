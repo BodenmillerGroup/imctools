{
 "cells": [
  {
   "cell_type": "code",
   "execution_count": null,
   "metadata": {
    "collapsed": false,
    "deletable": true,
    "editable": true
   },
   "outputs": [],
   "source": [
    "from imctools.scripts import ometiff2analysis\n",
    "from imctools.scripts import cropobjects\n",
    "from imctools.scripts import croprandomsection\n",
    "from imctools.scripts import resizeimage\n",
    "from imctools.scripts import generatedistancetospheres\n",
    "from imctools.scripts import imc2tiff\n",
    "from imctools.scripts import ome2micat\n",
    "from imctools.scripts import probablity2uncertainty\n"
   ]
  },
  {
   "cell_type": "code",
   "execution_count": null,
   "metadata": {
    "collapsed": true,
    "deletable": true,
    "editable": true
   },
   "outputs": [],
   "source": [
    "import os\n",
    "import re\n"
   ]
  },
  {
   "cell_type": "markdown",
   "metadata": {
    "deletable": true,
    "editable": true
   },
   "source": [
    "\n",
    "# This script must be adapted to use\n",
    "Currently it will convert txt in subfolders of the folder base_folder into OME.tiffs\n",
    " and then create tiff stacks for analysis and ilastik based on the pannel_csv\n",
    " run it like this\n",
    " this will create crops for ilastik\n",
    " load the ilatik_random folder in ilastik and do the classifictation\n",
    " check the uncertainties\n"
   ]
  },
  {
   "cell_type": "code",
   "execution_count": null,
   "metadata": {
    "collapsed": false,
    "deletable": true,
    "editable": true
   },
   "outputs": [],
   "source": [
    "# the folders with the txt/mcd files for the analysis\n",
    "folders = ['/path/to/txt/file/folder']\n",
    "\n",
    "# output for OME tiffs\n",
    "out_tiff_folder = 'path/to/output/folder'\n",
    "\n",
    "# filename part that all the imc txt files should have, can be set to '' if none\n",
    "common_file_part = 'txt'\n",
    "\n",
    "# a csv indicating which columns should be used for ilastik (0, 1) in ilastik column\n",
    "pannel_csv = '../example/panel.csv'\n",
    "mass_col = None\n",
    "metal_col = 'Metal'\n",
    "ilastik_col = 'ilastik'\n",
    "# specify the folder to put the analysis in\n",
    "analysis_folder = '../testout/analysis_stacks'\n",
    "# specify the subfolders\n",
    "ilastik_randomfolder = '../testout/ilastik_random'\n",
    "cp_folder = '../testout/cpoutput/'\n",
    "\n",
    "uncertainty_folder =analysis_folder\n",
    "micat_folder = '../testout/micat/'\n",
    "\n",
    "\n",
    "pannel_csv = '/home/daniels/Data/Her2_TMA/Her2_TMA_final_for_stack_generation.csv'\n",
    "mass_col = None\n",
    "metal_col = 'Metal'\n",
    "ilastik_col = 'ilastik'\n",
    "\n",
    "# parameters for resizing the images for ilastik\n",
    "resize_scale = 2\n",
    "suffix_full = '_full'\n",
    "suffix_ilastik = '_ilastik'\n",
    "suffix_ilastik_scale = '_ilastik'+str(resize_scale)\n",
    "suffix_cropmask = 'cropmask'\n",
    "suffic_segmentation = 'sphereseg'\n",
    "suffix_mask = '_mask.tiff'\n",
    "suffix_probablities = '_probabilities'\n",
    "\n",
    "# size of the random crops\n",
    "random_cropsize = 250\n",
    "# how many random crops should be made\n",
    "n_random_crops = 1\n",
    "\n",
    "\n",
    "failed_images = list()\n",
    "\n",
    "re_idfromname = re.compile('_l(?P<Label>[0-9]+)_')"
   ]
  },
  {
   "cell_type": "markdown",
   "metadata": {
    "deletable": true,
    "editable": true
   },
   "source": [
    "Specify which steps to run"
   ]
  },
  {
   "cell_type": "code",
   "execution_count": null,
   "metadata": {
    "collapsed": true,
    "deletable": true,
    "editable": true
   },
   "outputs": [],
   "source": [
    "do_convert_txt = True\n",
    "do_stacks = True\n",
    "do_ilastik = True\n",
    "do_ilastik_crop = True\n",
    "do_micat = True"
   ]
  },
  {
   "cell_type": "markdown",
   "metadata": {
    "deletable": true,
    "editable": true
   },
   "source": [
    "Generate all the folders if necessary"
   ]
  },
  {
   "cell_type": "code",
   "execution_count": null,
   "metadata": {
    "collapsed": true,
    "deletable": true,
    "editable": true
   },
   "outputs": [],
   "source": [
    "for fol in [out_tiff_folder, analysis_folder, ilastik_randomfolder, cp_folder, micat_folder,uncertainty_folder]:\n",
    "    if not os.path.exists(fol):\n",
    "        os.makedirs(fol)"
   ]
  },
  {
   "cell_type": "markdown",
   "metadata": {
    "deletable": true,
    "editable": true
   },
   "source": [
    "Convert txt to ome"
   ]
  },
  {
   "cell_type": "code",
   "execution_count": null,
   "metadata": {
    "collapsed": false,
    "deletable": true,
    "editable": true
   },
   "outputs": [],
   "source": [
    "if do_convert_txt:\n",
    "    for fol in folders:\n",
    "        for fn in os.listdir(fol):\n",
    "            if len([f for f in os.listdir(out_tiff_folder) if (fn.rstrip('.txt') in f)]) == 0:\n",
    "                if common_file_part in fn:\n",
    "                    print(fn)\n",
    "                    txtname = os.path.join(fol, fn)\n",
    "                    try:\n",
    "                        imc2tiff.save_imc_to_tiff(txtname,tifftype='ome', outpath=out_tiff_folder)\n",
    "\n",
    "                    except:\n",
    "                        failed_images.append(txtname)\n",
    "                        print(txtname)\n"
   ]
  },
  {
   "cell_type": "markdown",
   "metadata": {
    "deletable": true,
    "editable": true
   },
   "source": [
    "Generate the analysis stacks"
   ]
  },
  {
   "cell_type": "code",
   "execution_count": null,
   "metadata": {
    "collapsed": false,
    "deletable": true,
    "editable": true
   },
   "outputs": [],
   "source": [
    "if do_stacks:\n",
    "    for img in os.listdir(out_tiff_folder):\n",
    "        basename = img.rstrip('.ome.tiff')\n",
    "        ometiff2analysis.ometiff_2_analysis(os.path.join(out_tiff_folder, img), analysis_folder, basename+suffix_full)\n",
    "\n"
   ]
  },
  {
   "cell_type": "markdown",
   "metadata": {
    "deletable": true,
    "editable": true
   },
   "source": [
    "Generate the ilastik stacks"
   ]
  },
  {
   "cell_type": "code",
   "execution_count": null,
   "metadata": {
    "collapsed": false,
    "deletable": true,
    "editable": true
   },
   "outputs": [],
   "source": [
    "if do_ilastik:\n",
    "    for img in os.listdir(out_tiff_folder):\n",
    "        basename = img.rstrip('.ome.tiff')\n",
    "        ometiff2analysis.ometiff_2_analysis(os.path.join(out_tiff_folder, img), analysis_folder,\n",
    "                                            basename + suffix_ilastik, pannelcsv=pannel_csv, metalcolumn=metal_col,\n",
    "                                            usedcolumn=ilastik_col)\n",
    "\n",
    "        # resize the ilastik image\n",
    "        fn = os.path.join(analysis_folder, basename + suffix_ilastik + '.tiff')\n",
    "        resizeimage.resize_image(fn,\n",
    "                                 outfolder=analysis_folder, basename=basename + suffix_ilastik_scale,\n",
    "                                 scalefactor=resize_scale)\n",
    "\n",
    "        os.remove(fn)\n",
    "\n"
   ]
  },
  {
   "cell_type": "markdown",
   "metadata": {
    "deletable": true,
    "editable": true
   },
   "source": [
    "Generate the ilastik random crops"
   ]
  },
  {
   "cell_type": "code",
   "execution_count": null,
   "metadata": {
    "collapsed": false,
    "deletable": true,
    "editable": true
   },
   "outputs": [],
   "source": [
    "if do_ilastik_crop:\n",
    "    for fn in os.listdir(analysis_folder):\n",
    "        if (fn.endswith(suffix_ilastik_scale + '.tiff')):\n",
    "            fn_base = fn.rstrip('.tiff').rstrip('.tif')\n",
    "            fn = os.path.join(analysis_folder, fn)\n",
    "            for i in range(n_random_crops):\n",
    "                croprandomsection.crop_random_section(fn, outfolder=ilastik_randomfolder, basename=fn_base,\n",
    "                                                  size=random_cropsize)\n",
    "\n",
    "print(failed_images)"
   ]
  },
  {
   "cell_type": "markdown",
   "metadata": {
    "deletable": true,
    "editable": true
   },
   "source": [
    "-> Before the next step run ilastik, then cellprofiler to generate the masks"
   ]
  },
  {
   "cell_type": "markdown",
   "metadata": {
    "deletable": true,
    "editable": true
   },
   "source": [
    "## Run the ilastik classification as a batch"
   ]
  },
  {
   "cell_type": "code",
   "execution_count": null,
   "metadata": {
    "collapsed": true,
    "deletable": true,
    "editable": true
   },
   "outputs": [],
   "source": [
    "fn_ilastikproject = '/path/to/ilastik_project.ilp'\n",
    "bin_ilastik = \"/mnt/bbvolume/labcode/ilastik-1.2.0-Linux/run_ilastik.sh\" "
   ]
  },
  {
   "cell_type": "code",
   "execution_count": null,
   "metadata": {
    "collapsed": false,
    "deletable": true,
    "editable": true
   },
   "outputs": [],
   "source": [
    "glob_probabilities =os.path.join(analysis_folder,\"*\"+suffix_ilastik_scale+'.tiff')\n",
    "fn_ilastik_out = os.path.join(analysis_folder,\"{nickname}\"+suffix_probablities+'.tiff')"
   ]
  },
  {
   "cell_type": "code",
   "execution_count": null,
   "metadata": {
    "collapsed": false,
    "deletable": true,
    "editable": true
   },
   "outputs": [],
   "source": [
    "%%bash -s \"$bin_ilastik\" \"$fn_ilastikproject\" \"$glob_probabilities\" \"$fn_ilastik_out\" \n",
    "echo $1\n",
    "echo $2\n",
    "echo $3\n",
    "echo $4\n",
    "LAZYFLOW_TOTAL_RAM_MB=40000 \\\n",
    "LAZYFLOW_THREADS=16\\\n",
    "    $1 \\\n",
    "    --headless --project=$2 \\\n",
    "    --output_format=tiff \\\n",
    "    --output_filename_format=$3 \\\n",
    "    --export_dtype uint16 --pipeline_result_drange=\"(0.0, 1.0)\" \\\n",
    "    --export_drange=\"(0,65535)\" $4"
   ]
  },
  {
   "cell_type": "markdown",
   "metadata": {},
   "source": [
    "## convert probabilities to uncertainties"
   ]
  },
  {
   "cell_type": "code",
   "execution_count": null,
   "metadata": {
    "collapsed": false
   },
   "outputs": [],
   "source": [
    "for fn in os.listdir(analysis_folder):\n",
    "    if fn.endswith(suffix_probablities+'.tiff'):\n",
    "        probablity2uncertainty.probability2uncertainty(os.path.join(analysis_folder,fn), uncertainty_folder)"
   ]
  },
  {
   "cell_type": "markdown",
   "metadata": {
    "deletable": true,
    "editable": true
   },
   "source": [
    "## Generate the micat folder"
   ]
  },
  {
   "cell_type": "code",
   "execution_count": null,
   "metadata": {
    "collapsed": false,
    "deletable": true,
    "editable": true
   },
   "outputs": [],
   "source": [
    "if do_micat:\n",
    "    if not(os.path.exists(micat_folder)):\n",
    "        os.makedirs(micat_folder)\n",
    "    ome2micat.omefolder2micatfolder(out_tiff_folder, micat_folder, fol_masks=cp_folder,mask_suffix=suffix_mask, dtype='uint16')"
   ]
  }
 ],
 "metadata": {
  "kernelspec": {
   "display_name": "Python 2 venv",
   "language": "python",
   "name": "python2"
  },
  "language_info": {
   "codemirror_mode": {
    "name": "ipython",
    "version": 2
   },
   "file_extension": ".py",
   "mimetype": "text/x-python",
   "name": "python",
   "nbconvert_exporter": "python",
   "pygments_lexer": "ipython2",
   "version": "2.7.6"
  }
 },
 "nbformat": 4,
 "nbformat_minor": 0
}
