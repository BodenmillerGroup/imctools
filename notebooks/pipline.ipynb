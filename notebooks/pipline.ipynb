{
 "cells": [
  {
   "cell_type": "code",
   "execution_count": 1,
   "metadata": {
    "collapsed": true
   },
   "outputs": [],
   "source": [
    "from imctools.scripts import ometiff2analysis\n",
    "from imctools.scripts import cropobjects\n",
    "from imctools.scripts import croprandomsection\n",
    "from imctools.scripts import resizeimage\n",
    "from imctools.scripts import generatedistancetospheres\n",
    "from imctools.scripts import imc2tiff\n",
    "from imctools.scripts import ome2micat"
   ]
  },
  {
   "cell_type": "code",
   "execution_count": 2,
   "metadata": {
    "collapsed": true
   },
   "outputs": [],
   "source": [
    "import os\n",
    "import re\n"
   ]
  },
  {
   "cell_type": "markdown",
   "metadata": {},
   "source": [
    "## The data processing pipline"
   ]
  },
  {
   "cell_type": "code",
   "execution_count": null,
   "metadata": {
    "collapsed": true
   },
   "outputs": [],
   "source": [
    "# the folders with the txt files for the analysis\n",
    "folders = ['/mnt/imls-bod/Daniel_Data/ACD/IMC3.02/Cores']\n",
    "\n",
    "# output for OME tiffs\n",
    "out_tiff_folder = '/home/daniels/Data/Her2_TMA/ometiffs'\n",
    "\n",
    "# txt part that all the imc txt files should have, can be set to '' if none\n",
    "common_file_part = 'txt'\n",
    "\n",
    "# a csv indicating which columns should be used for ilastik (0, 1) in ilastik column\n",
    "pannel_csv = '/home/daniels/Data/Her2_TMA/Her2_TMA_final_for_stack_generation.csv'\n",
    "mass_col = None\n",
    "metal_col = 'Metal'\n",
    "ilastik_col = 'ilastik'\n",
    "analysis_folder = '/home/daniels/Data/Her2_TMA/analysis_stacks'\n",
    "ilastik_randomfolder = '/home/daniels/Data/Her2_TMA/ilastik_random'\n",
    "cp_folder = '/home/daniels/Data/Her2_TMA/cpoutput/'\n",
    "micat_folder = '/home/daniels/Data/Her2_TMA/micat/'\n",
    "\n",
    "# parameters for resizing the images for ilastik\n",
    "resize_scale = 2\n",
    "suffix_full = '_full'\n",
    "suffix_ilastik = '_ilastik'\n",
    "suffix_ilastik_scale = '_ilastik'+str(resize_scale)\n",
    "suffix_cropmask = 'cropmask'\n",
    "suffic_segmentation = 'sphereseg'\n",
    "mask_suffix = '_mask.tiff'\n",
    "\n",
    "# size of the random crops\n",
    "random_cropsize = 250\n",
    "# how many random crops should be made\n",
    "n_random_crops = 1\n",
    "\n",
    "\n",
    "failed_images = list()\n",
    "\n",
    "do_convert_txt = False\n",
    "do_stacks = False\n",
    "do_ilastik = False\n",
    "do_ilastik_crop = False\n",
    "do_micat = True\n",
    "\n",
    "re_idfromname = re.compile('_l(?P<Label>[0-9]+)_')"
   ]
  },
  {
   "cell_type": "raw",
   "metadata": {},
   "source": [
    "Convert to ome"
   ]
  },
  {
   "cell_type": "code",
   "execution_count": null,
   "metadata": {
    "collapsed": true
   },
   "outputs": [],
   "source": []
  },
  {
   "cell_type": "markdown",
   "metadata": {},
   "source": [
    "Now generate the analysis files for ilastik and cellprofiller"
   ]
  },
  {
   "cell_type": "code",
   "execution_count": 5,
   "metadata": {
    "collapsed": false
   },
   "outputs": [
    {
     "ename": "NameError",
     "evalue": "name 'generate_analysis_tiffs' is not defined",
     "output_type": "error",
     "traceback": [
      "\u001b[1;31m---------------------------------------------------------------------------\u001b[0m",
      "\u001b[1;31mNameError\u001b[0m                                 Traceback (most recent call last)",
      "\u001b[1;32m<ipython-input-5-709ac9320c56>\u001b[0m in \u001b[0;36m<module>\u001b[1;34m()\u001b[0m\n\u001b[1;32m----> 1\u001b[1;33m \u001b[0mgenerate_analysis_tiffs\u001b[0m\u001b[1;33m(\u001b[0m\u001b[1;33m)\u001b[0m\u001b[1;33m\u001b[0m\u001b[0m\n\u001b[0m",
      "\u001b[1;31mNameError\u001b[0m: name 'generate_analysis_tiffs' is not defined"
     ]
    }
   ],
   "source": [
    "generate_analysis_tiffs()"
   ]
  },
  {
   "cell_type": "markdown",
   "metadata": {},
   "source": [
    "Do the ilastik segmentation"
   ]
  },
  {
   "cell_type": "code",
   "execution_count": 6,
   "metadata": {
    "collapsed": false
   },
   "outputs": [
    {
     "ename": "NameError",
     "evalue": "name 'run_trained_ilastik' is not defined",
     "output_type": "error",
     "traceback": [
      "\u001b[1;31m---------------------------------------------------------------------------\u001b[0m",
      "\u001b[1;31mNameError\u001b[0m                                 Traceback (most recent call last)",
      "\u001b[1;32m<ipython-input-6-90019dda7d4c>\u001b[0m in \u001b[0;36m<module>\u001b[1;34m()\u001b[0m\n\u001b[1;32m----> 1\u001b[1;33m \u001b[0mrun_trained_ilastik\u001b[0m\u001b[1;33m(\u001b[0m\u001b[1;33m)\u001b[0m\u001b[1;33m\u001b[0m\u001b[0m\n\u001b[0m",
      "\u001b[1;31mNameError\u001b[0m: name 'run_trained_ilastik' is not defined"
     ]
    }
   ],
   "source": [
    "run_trained_ilastik()"
   ]
  },
  {
   "cell_type": "markdown",
   "metadata": {},
   "source": [
    "Now do the cellprofiler segmentation"
   ]
  },
  {
   "cell_type": "markdown",
   "metadata": {},
   "source": [
    "Finally: convert the data for micat"
   ]
  },
  {
   "cell_type": "code",
   "execution_count": null,
   "metadata": {
    "collapsed": true
   },
   "outputs": [],
   "source": []
  }
 ],
 "metadata": {
  "kernelspec": {
   "display_name": "Python 2 venv",
   "language": "python",
   "name": "python2"
  },
  "language_info": {
   "codemirror_mode": {
    "name": "ipython",
    "version": 2
   },
   "file_extension": ".py",
   "mimetype": "text/x-python",
   "name": "python",
   "nbconvert_exporter": "python",
   "pygments_lexer": "ipython2",
   "version": "2.7.6"
  }
 },
 "nbformat": 4,
 "nbformat_minor": 0
}
